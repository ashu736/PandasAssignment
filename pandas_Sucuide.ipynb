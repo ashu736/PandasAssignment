{
 "cells": [
  {
   "cell_type": "code",
   "execution_count": 1,
   "metadata": {},
   "outputs": [],
   "source": [
    "import pandas as pd\n",
    "import numpy as np\n",
    "import matplotlib.pyplot as plt"
   ]
  },
  {
   "cell_type": "code",
   "execution_count": 2,
   "metadata": {},
   "outputs": [],
   "source": [
    "df =pd.read_csv('D:\\pandas assigmnets\\Suicides.csv')"
   ]
  },
  {
   "cell_type": "code",
   "execution_count": 3,
   "metadata": {},
   "outputs": [
    {
     "data": {
      "text/html": [
       "<div>\n",
       "<style scoped>\n",
       "    .dataframe tbody tr th:only-of-type {\n",
       "        vertical-align: middle;\n",
       "    }\n",
       "\n",
       "    .dataframe tbody tr th {\n",
       "        vertical-align: top;\n",
       "    }\n",
       "\n",
       "    .dataframe thead th {\n",
       "        text-align: right;\n",
       "    }\n",
       "</style>\n",
       "<table border=\"1\" class=\"dataframe\">\n",
       "  <thead>\n",
       "    <tr style=\"text-align: right;\">\n",
       "      <th></th>\n",
       "      <th>State</th>\n",
       "      <th>Year</th>\n",
       "      <th>Type_code</th>\n",
       "      <th>Type</th>\n",
       "      <th>Gender</th>\n",
       "      <th>Age_group</th>\n",
       "      <th>Total</th>\n",
       "    </tr>\n",
       "  </thead>\n",
       "  <tbody>\n",
       "    <tr>\n",
       "      <th>0</th>\n",
       "      <td>A &amp; N Islands</td>\n",
       "      <td>2001</td>\n",
       "      <td>Causes</td>\n",
       "      <td>Illness (Aids/STD)</td>\n",
       "      <td>Female</td>\n",
       "      <td>0-14</td>\n",
       "      <td>0</td>\n",
       "    </tr>\n",
       "    <tr>\n",
       "      <th>1</th>\n",
       "      <td>A &amp; N Islands</td>\n",
       "      <td>2001</td>\n",
       "      <td>Causes</td>\n",
       "      <td>Bankruptcy or Sudden change in Economic</td>\n",
       "      <td>Female</td>\n",
       "      <td>0-14</td>\n",
       "      <td>0</td>\n",
       "    </tr>\n",
       "    <tr>\n",
       "      <th>2</th>\n",
       "      <td>A &amp; N Islands</td>\n",
       "      <td>2001</td>\n",
       "      <td>Causes</td>\n",
       "      <td>Cancellation/Non-Settlement of Marriage</td>\n",
       "      <td>Female</td>\n",
       "      <td>0-14</td>\n",
       "      <td>0</td>\n",
       "    </tr>\n",
       "    <tr>\n",
       "      <th>3</th>\n",
       "      <td>A &amp; N Islands</td>\n",
       "      <td>2001</td>\n",
       "      <td>Causes</td>\n",
       "      <td>Physical Abuse (Rape/Incest Etc.)</td>\n",
       "      <td>Female</td>\n",
       "      <td>0-14</td>\n",
       "      <td>0</td>\n",
       "    </tr>\n",
       "    <tr>\n",
       "      <th>4</th>\n",
       "      <td>A &amp; N Islands</td>\n",
       "      <td>2001</td>\n",
       "      <td>Causes</td>\n",
       "      <td>Dowry Dispute</td>\n",
       "      <td>Female</td>\n",
       "      <td>0-14</td>\n",
       "      <td>0</td>\n",
       "    </tr>\n",
       "  </tbody>\n",
       "</table>\n",
       "</div>"
      ],
      "text/plain": [
       "           State  Year Type_code                                     Type  \\\n",
       "0  A & N Islands  2001    Causes                       Illness (Aids/STD)   \n",
       "1  A & N Islands  2001    Causes  Bankruptcy or Sudden change in Economic   \n",
       "2  A & N Islands  2001    Causes  Cancellation/Non-Settlement of Marriage   \n",
       "3  A & N Islands  2001    Causes        Physical Abuse (Rape/Incest Etc.)   \n",
       "4  A & N Islands  2001    Causes                            Dowry Dispute   \n",
       "\n",
       "   Gender Age_group  Total  \n",
       "0  Female      0-14      0  \n",
       "1  Female      0-14      0  \n",
       "2  Female      0-14      0  \n",
       "3  Female      0-14      0  \n",
       "4  Female      0-14      0  "
      ]
     },
     "execution_count": 3,
     "metadata": {},
     "output_type": "execute_result"
    }
   ],
   "source": [
    "df.head()"
   ]
  },
  {
   "cell_type": "code",
   "execution_count": 4,
   "metadata": {},
   "outputs": [
    {
     "data": {
      "text/plain": [
       "<bound method NDFrame.tail of                 State  Year      Type_code  \\\n",
       "0       A & N Islands  2001         Causes   \n",
       "1       A & N Islands  2001         Causes   \n",
       "2       A & N Islands  2001         Causes   \n",
       "3       A & N Islands  2001         Causes   \n",
       "4       A & N Islands  2001         Causes   \n",
       "...               ...   ...            ...   \n",
       "237514    West Bengal  2012  Social_Status   \n",
       "237515    West Bengal  2012  Social_Status   \n",
       "237516    West Bengal  2012  Social_Status   \n",
       "237517    West Bengal  2012  Social_Status   \n",
       "237518    West Bengal  2012  Social_Status   \n",
       "\n",
       "                                           Type  Gender Age_group  Total  \n",
       "0                            Illness (Aids/STD)  Female      0-14      0  \n",
       "1       Bankruptcy or Sudden change in Economic  Female      0-14      0  \n",
       "2       Cancellation/Non-Settlement of Marriage  Female      0-14      0  \n",
       "3             Physical Abuse (Rape/Incest Etc.)  Female      0-14      0  \n",
       "4                                 Dowry Dispute  Female      0-14      0  \n",
       "...                                         ...     ...       ...    ...  \n",
       "237514                                Seperated    Male    0-100+    149  \n",
       "237515                          Widowed/Widower    Male    0-100+    233  \n",
       "237516                                  Married    Male    0-100+   5451  \n",
       "237517                                 Divorcee    Male    0-100+    189  \n",
       "237518                            Never Married    Male    0-100+   2658  \n",
       "\n",
       "[237519 rows x 7 columns]>"
      ]
     },
     "execution_count": 4,
     "metadata": {},
     "output_type": "execute_result"
    }
   ],
   "source": [
    "df.tail"
   ]
  },
  {
   "cell_type": "code",
   "execution_count": 5,
   "metadata": {},
   "outputs": [
    {
     "data": {
      "text/html": [
       "<div>\n",
       "<style scoped>\n",
       "    .dataframe tbody tr th:only-of-type {\n",
       "        vertical-align: middle;\n",
       "    }\n",
       "\n",
       "    .dataframe tbody tr th {\n",
       "        vertical-align: top;\n",
       "    }\n",
       "\n",
       "    .dataframe thead th {\n",
       "        text-align: right;\n",
       "    }\n",
       "</style>\n",
       "<table border=\"1\" class=\"dataframe\">\n",
       "  <thead>\n",
       "    <tr style=\"text-align: right;\">\n",
       "      <th></th>\n",
       "      <th>State</th>\n",
       "      <th>Year</th>\n",
       "      <th>Type_code</th>\n",
       "      <th>Type</th>\n",
       "      <th>Gender</th>\n",
       "      <th>Age_group</th>\n",
       "      <th>Total</th>\n",
       "    </tr>\n",
       "  </thead>\n",
       "  <tbody>\n",
       "    <tr>\n",
       "      <th>33201</th>\n",
       "      <td>Bihar</td>\n",
       "      <td>2011</td>\n",
       "      <td>Professional_Profile</td>\n",
       "      <td>Service (Private)</td>\n",
       "      <td>Male</td>\n",
       "      <td>60+</td>\n",
       "      <td>1</td>\n",
       "    </tr>\n",
       "    <tr>\n",
       "      <th>184408</th>\n",
       "      <td>Punjab</td>\n",
       "      <td>2004</td>\n",
       "      <td>Means_adopted</td>\n",
       "      <td>By Over Alcoholism</td>\n",
       "      <td>Male</td>\n",
       "      <td>15-29</td>\n",
       "      <td>0</td>\n",
       "    </tr>\n",
       "    <tr>\n",
       "      <th>171087</th>\n",
       "      <td>Odisha</td>\n",
       "      <td>2004</td>\n",
       "      <td>Professional_Profile</td>\n",
       "      <td>House Wife</td>\n",
       "      <td>Female</td>\n",
       "      <td>60+</td>\n",
       "      <td>12</td>\n",
       "    </tr>\n",
       "    <tr>\n",
       "      <th>24384</th>\n",
       "      <td>Assam</td>\n",
       "      <td>2008</td>\n",
       "      <td>Causes</td>\n",
       "      <td>Physical Abuse (Rape/Incest Etc.)</td>\n",
       "      <td>Female</td>\n",
       "      <td>60+</td>\n",
       "      <td>0</td>\n",
       "    </tr>\n",
       "    <tr>\n",
       "      <th>66537</th>\n",
       "      <td>Delhi (Ut)</td>\n",
       "      <td>2011</td>\n",
       "      <td>Causes</td>\n",
       "      <td>Poverty</td>\n",
       "      <td>Female</td>\n",
       "      <td>45-59</td>\n",
       "      <td>0</td>\n",
       "    </tr>\n",
       "  </tbody>\n",
       "</table>\n",
       "</div>"
      ],
      "text/plain": [
       "             State  Year             Type_code  \\\n",
       "33201        Bihar  2011  Professional_Profile   \n",
       "184408      Punjab  2004         Means_adopted   \n",
       "171087      Odisha  2004  Professional_Profile   \n",
       "24384        Assam  2008                Causes   \n",
       "66537   Delhi (Ut)  2011                Causes   \n",
       "\n",
       "                                     Type  Gender Age_group  Total  \n",
       "33201                   Service (Private)    Male       60+      1  \n",
       "184408                 By Over Alcoholism    Male     15-29      0  \n",
       "171087                         House Wife  Female       60+     12  \n",
       "24384   Physical Abuse (Rape/Incest Etc.)  Female       60+      0  \n",
       "66537                             Poverty  Female     45-59      0  "
      ]
     },
     "execution_count": 5,
     "metadata": {},
     "output_type": "execute_result"
    }
   ],
   "source": [
    "df.sample(5)"
   ]
  },
  {
   "cell_type": "code",
   "execution_count": 6,
   "metadata": {},
   "outputs": [
    {
     "data": {
      "text/plain": [
       "(237519, 7)"
      ]
     },
     "execution_count": 6,
     "metadata": {},
     "output_type": "execute_result"
    }
   ],
   "source": [
    "df.shape"
   ]
  },
  {
   "cell_type": "code",
   "execution_count": 7,
   "metadata": {},
   "outputs": [
    {
     "data": {
      "text/plain": [
       "<bound method DataFrame.info of                 State  Year      Type_code  \\\n",
       "0       A & N Islands  2001         Causes   \n",
       "1       A & N Islands  2001         Causes   \n",
       "2       A & N Islands  2001         Causes   \n",
       "3       A & N Islands  2001         Causes   \n",
       "4       A & N Islands  2001         Causes   \n",
       "...               ...   ...            ...   \n",
       "237514    West Bengal  2012  Social_Status   \n",
       "237515    West Bengal  2012  Social_Status   \n",
       "237516    West Bengal  2012  Social_Status   \n",
       "237517    West Bengal  2012  Social_Status   \n",
       "237518    West Bengal  2012  Social_Status   \n",
       "\n",
       "                                           Type  Gender Age_group  Total  \n",
       "0                            Illness (Aids/STD)  Female      0-14      0  \n",
       "1       Bankruptcy or Sudden change in Economic  Female      0-14      0  \n",
       "2       Cancellation/Non-Settlement of Marriage  Female      0-14      0  \n",
       "3             Physical Abuse (Rape/Incest Etc.)  Female      0-14      0  \n",
       "4                                 Dowry Dispute  Female      0-14      0  \n",
       "...                                         ...     ...       ...    ...  \n",
       "237514                                Seperated    Male    0-100+    149  \n",
       "237515                          Widowed/Widower    Male    0-100+    233  \n",
       "237516                                  Married    Male    0-100+   5451  \n",
       "237517                                 Divorcee    Male    0-100+    189  \n",
       "237518                            Never Married    Male    0-100+   2658  \n",
       "\n",
       "[237519 rows x 7 columns]>"
      ]
     },
     "execution_count": 7,
     "metadata": {},
     "output_type": "execute_result"
    }
   ],
   "source": [
    "df.info"
   ]
  },
  {
   "cell_type": "code",
   "execution_count": 8,
   "metadata": {},
   "outputs": [
    {
     "data": {
      "text/plain": [
       "State        0\n",
       "Year         0\n",
       "Type_code    0\n",
       "Type         0\n",
       "Gender       0\n",
       "Age_group    0\n",
       "Total        0\n",
       "dtype: int64"
      ]
     },
     "execution_count": 8,
     "metadata": {},
     "output_type": "execute_result"
    }
   ],
   "source": [
    "df.isna().sum()"
   ]
  },
  {
   "cell_type": "code",
   "execution_count": 9,
   "metadata": {},
   "outputs": [
    {
     "data": {
      "text/plain": [
       "Index(['State', 'Year', 'Type_code', 'Type', 'Gender', 'Age_group', 'Total'], dtype='object')"
      ]
     },
     "execution_count": 9,
     "metadata": {},
     "output_type": "execute_result"
    }
   ],
   "source": [
    "df.columns"
   ]
  },
  {
   "cell_type": "code",
   "execution_count": 10,
   "metadata": {},
   "outputs": [
    {
     "data": {
      "text/plain": [
       "0            0\n",
       "1            0\n",
       "2            0\n",
       "3            0\n",
       "4            0\n",
       "          ... \n",
       "237514     149\n",
       "237515     233\n",
       "237516    5451\n",
       "237517     189\n",
       "237518    2658\n",
       "Name: Total, Length: 237519, dtype: int64"
      ]
     },
     "execution_count": 10,
     "metadata": {},
     "output_type": "execute_result"
    }
   ],
   "source": [
    "df['Total']"
   ]
  },
  {
   "cell_type": "code",
   "execution_count": 11,
   "metadata": {},
   "outputs": [
    {
     "data": {
      "text/plain": [
       "13071734"
      ]
     },
     "execution_count": 11,
     "metadata": {},
     "output_type": "execute_result"
    }
   ],
   "source": [
    "df.Total.sum()"
   ]
  },
  {
   "cell_type": "code",
   "execution_count": 12,
   "metadata": {},
   "outputs": [
    {
     "data": {
      "text/plain": [
       "State\n",
       "A & N Islands           8109\n",
       "Andhra Pradesh        814059\n",
       "Arunachal Pradesh       6633\n",
       "Assam                 172276\n",
       "Bihar                  46214\n",
       "Chandigarh              5164\n",
       "Chhattisgarh          302354\n",
       "D & N Haveli            3430\n",
       "Daman & Diu             1391\n",
       "Delhi (Ut)             84272\n",
       "Goa                    17363\n",
       "Gujarat               330858\n",
       "Haryana               147176\n",
       "Himachal Pradesh       26562\n",
       "Jammu & Kashmir        14821\n",
       "Jharkhand              49720\n",
       "Karnataka             734825\n",
       "Kerala                538946\n",
       "Lakshadweep               50\n",
       "Madhya Pradesh        451535\n",
       "Maharashtra           901945\n",
       "Manipur                 2102\n",
       "Meghalaya               5415\n",
       "Mizoram                 4154\n",
       "Nagaland                1728\n",
       "Odisha                267234\n",
       "Puducherry             32144\n",
       "Punjab                 46350\n",
       "Rajasthan             255134\n",
       "Sikkim                  9606\n",
       "Tamil Nadu            818691\n",
       "Total (All India)    2911862\n",
       "Total (States)       2858026\n",
       "Total (Uts)            53836\n",
       "Tripura                45965\n",
       "Uttar Pradesh         233352\n",
       "Uttarakhand            18496\n",
       "West Bengal           849936\n",
       "Name: Total, dtype: int64"
      ]
     },
     "execution_count": 12,
     "metadata": {},
     "output_type": "execute_result"
    }
   ],
   "source": [
    "df.groupby('State').Total.sum()"
   ]
  },
  {
   "cell_type": "code",
   "execution_count": 13,
   "metadata": {},
   "outputs": [
    {
     "data": {
      "text/plain": [
       "State\n",
       "Lakshadweep               50\n",
       "Daman & Diu             1391\n",
       "Nagaland                1728\n",
       "Manipur                 2102\n",
       "D & N Haveli            3430\n",
       "Mizoram                 4154\n",
       "Chandigarh              5164\n",
       "Meghalaya               5415\n",
       "Arunachal Pradesh       6633\n",
       "A & N Islands           8109\n",
       "Sikkim                  9606\n",
       "Jammu & Kashmir        14821\n",
       "Goa                    17363\n",
       "Uttarakhand            18496\n",
       "Himachal Pradesh       26562\n",
       "Puducherry             32144\n",
       "Tripura                45965\n",
       "Bihar                  46214\n",
       "Punjab                 46350\n",
       "Jharkhand              49720\n",
       "Total (Uts)            53836\n",
       "Delhi (Ut)             84272\n",
       "Haryana               147176\n",
       "Assam                 172276\n",
       "Uttar Pradesh         233352\n",
       "Rajasthan             255134\n",
       "Odisha                267234\n",
       "Chhattisgarh          302354\n",
       "Gujarat               330858\n",
       "Madhya Pradesh        451535\n",
       "Kerala                538946\n",
       "Karnataka             734825\n",
       "Andhra Pradesh        814059\n",
       "Tamil Nadu            818691\n",
       "West Bengal           849936\n",
       "Maharashtra           901945\n",
       "Total (States)       2858026\n",
       "Total (All India)    2911862\n",
       "Name: Total, dtype: int64"
      ]
     },
     "execution_count": 13,
     "metadata": {},
     "output_type": "execute_result"
    }
   ],
   "source": [
    "df.groupby('State').Total.sum().sort_values()"
   ]
  },
  {
   "cell_type": "code",
   "execution_count": 14,
   "metadata": {},
   "outputs": [
    {
     "data": {
      "text/plain": [
       "State\n",
       "Total (All India)    2911862\n",
       "Total (States)       2858026\n",
       "Maharashtra           901945\n",
       "West Bengal           849936\n",
       "Tamil Nadu            818691\n",
       "Andhra Pradesh        814059\n",
       "Karnataka             734825\n",
       "Kerala                538946\n",
       "Madhya Pradesh        451535\n",
       "Gujarat               330858\n",
       "Chhattisgarh          302354\n",
       "Odisha                267234\n",
       "Rajasthan             255134\n",
       "Uttar Pradesh         233352\n",
       "Assam                 172276\n",
       "Haryana               147176\n",
       "Delhi (Ut)             84272\n",
       "Total (Uts)            53836\n",
       "Jharkhand              49720\n",
       "Punjab                 46350\n",
       "Bihar                  46214\n",
       "Tripura                45965\n",
       "Puducherry             32144\n",
       "Himachal Pradesh       26562\n",
       "Uttarakhand            18496\n",
       "Goa                    17363\n",
       "Jammu & Kashmir        14821\n",
       "Sikkim                  9606\n",
       "A & N Islands           8109\n",
       "Arunachal Pradesh       6633\n",
       "Meghalaya               5415\n",
       "Chandigarh              5164\n",
       "Mizoram                 4154\n",
       "D & N Haveli            3430\n",
       "Manipur                 2102\n",
       "Nagaland                1728\n",
       "Daman & Diu             1391\n",
       "Lakshadweep               50\n",
       "Name: Total, dtype: int64"
      ]
     },
     "execution_count": 14,
     "metadata": {},
     "output_type": "execute_result"
    }
   ],
   "source": [
    "df.groupby('State').Total.sum().sort_values(ascending=False)"
   ]
  },
  {
   "cell_type": "code",
   "execution_count": 15,
   "metadata": {},
   "outputs": [
    {
     "data": {
      "text/plain": [
       "Year\n",
       "2001     976464\n",
       "2002     993648\n",
       "2003     997622\n",
       "2004    1023137\n",
       "2005    1025201\n",
       "2006    1062991\n",
       "2007    1103667\n",
       "2008    1125082\n",
       "2009    1144033\n",
       "2010    1211322\n",
       "2011    1219499\n",
       "2012    1189068\n",
       "Name: Total, dtype: int64"
      ]
     },
     "execution_count": 15,
     "metadata": {},
     "output_type": "execute_result"
    }
   ],
   "source": [
    "df.groupby('Year').Total.sum()"
   ]
  },
  {
   "cell_type": "code",
   "execution_count": 16,
   "metadata": {},
   "outputs": [
    {
     "data": {
      "text/plain": [
       "Gender\n",
       "Female    4702974\n",
       "Male      8368760\n",
       "Name: Total, dtype: int64"
      ]
     },
     "execution_count": 16,
     "metadata": {},
     "output_type": "execute_result"
    }
   ],
   "source": [
    "df.groupby('Gender').Total.sum()"
   ]
  },
  {
   "cell_type": "code",
   "execution_count": 17,
   "metadata": {},
   "outputs": [
    {
     "data": {
      "text/plain": [
       "State          Year  Gender\n",
       "A & N Islands  2001  Female      250\n",
       "                     Male        395\n",
       "               2002  Female      265\n",
       "                     Male        455\n",
       "               2003  Female      215\n",
       "                               ...  \n",
       "West Bengal    2010  Male      46505\n",
       "               2011  Female    34340\n",
       "                     Male      48120\n",
       "               2012  Female    18831\n",
       "                     Male      26040\n",
       "Name: Total, Length: 912, dtype: int64"
      ]
     },
     "execution_count": 17,
     "metadata": {},
     "output_type": "execute_result"
    }
   ],
   "source": [
    "df.groupby(['State','Year','Gender']).Total.sum()"
   ]
  },
  {
   "cell_type": "code",
   "execution_count": 18,
   "metadata": {},
   "outputs": [
    {
     "data": {
      "text/plain": [
       "Type\n",
       "Bankruptcy or Sudden change in Economic            32755\n",
       "Bankruptcy or Sudden change in Economic Status      2655\n",
       "By Consuming Insecticides                         275501\n",
       "By Consuming Other Poison                         231178\n",
       "By Drowning                                        96711\n",
       "                                                   ...  \n",
       "Student                                            74323\n",
       "Suspected/Illicit Relation                         14911\n",
       "Unemployed                                        114374\n",
       "Unemployment                                       27365\n",
       "Widowed/Widower                                   186339\n",
       "Name: Total, Length: 69, dtype: int64"
      ]
     },
     "execution_count": 18,
     "metadata": {},
     "output_type": "execute_result"
    }
   ],
   "source": [
    "df.groupby('Type').Total.sum()"
   ]
  },
  {
   "cell_type": "code",
   "execution_count": 19,
   "metadata": {},
   "outputs": [
    {
     "data": {
      "text/plain": [
       "Type\n",
       "Married                                           3065322\n",
       "Primary                                           1088481\n",
       "Middle                                            1028913\n",
       "No Education                                       965271\n",
       "Never Married                                      954903\n",
       "                                                   ...   \n",
       "Bankruptcy or Sudden change in Economic Status       2655\n",
       "Illegitimate Pregnancy                               2494\n",
       "Ideological Causes/Hero Worshipping                  2118\n",
       "By Machine                                           1661\n",
       "Not having Children (Barrenness/Impotency             766\n",
       "Name: Total, Length: 69, dtype: int64"
      ]
     },
     "execution_count": 19,
     "metadata": {},
     "output_type": "execute_result"
    }
   ],
   "source": [
    "df.groupby('Type').Total.sum().sort_values(ascending=False)"
   ]
  },
  {
   "cell_type": "code",
   "execution_count": 20,
   "metadata": {},
   "outputs": [
    {
     "data": {
      "text/plain": [
       "array([[<AxesSubplot:title={'center':'Year'}>,\n",
       "        <AxesSubplot:title={'center':'Total'}>]], dtype=object)"
      ]
     },
     "execution_count": 20,
     "metadata": {},
     "output_type": "execute_result"
    },
    {
     "data": {
      "image/png": "[encoded data removed]",
      "text/plain": [
       "<Figure size 432x288 with 2 Axes>"
      ]
     },
     "metadata": {
      "needs_background": "light"
     },
     "output_type": "display_data"
    }
   ],
   "source": [
    "df.hist()"
   ]
  },
  {
   "cell_type": "code",
   "execution_count": 21,
   "metadata": {},
   "outputs": [
    {
     "data": {
      "text/plain": [
       "(array([39587., 19786., 19783., 19803., 19786., 19794., 19797., 19786.,\n",
       "        19792., 39605.]),\n",
       " array([2001. , 2002.1, 2003.2, 2004.3, 2005.4, 2006.5, 2007.6, 2008.7,\n",
       "        2009.8, 2010.9, 2012. ]),\n",
       " <BarContainer object of 10 artists>)"
      ]
     },
     "execution_count": 21,
     "metadata": {},
     "output_type": "execute_result"
    },
    {
     "data": {
      "image/png": "[encoded data removed]",
      "text/plain": [
       "<Figure size 432x288 with 1 Axes>"
      ]
     },
     "metadata": {
      "needs_background": "light"
     },
     "output_type": "display_data"
    }
   ],
   "source": [
    "plt.hist(df['Year'])"
   ]
  },
  {
   "cell_type": "code",
   "execution_count": 22,
   "metadata": {},
   "outputs": [],
   "source": [
    "year = df.Year\n",
    "total = df.Total"
   ]
  },
  {
   "cell_type": "code",
   "execution_count": 23,
   "metadata": {},
   "outputs": [
    {
     "data": {
      "text/plain": [
       "[<matplotlib.lines.Line2D at 0x18a5898>]"
      ]
     },
     "execution_count": 23,
     "metadata": {},
     "output_type": "execute_result"
    },
    {
     "data": {
      "image/png": "[encoded data removed]",
      "text/plain": [
       "<Figure size 432x288 with 1 Axes>"
      ]
     },
     "metadata": {
      "needs_background": "light"
     },
     "output_type": "display_data"
    }
   ],
   "source": [
    "plt.plot(year,total)"
   ]
  },
  {
   "cell_type": "code",
   "execution_count": null,
   "metadata": {},
   "outputs": [],
   "source": []
  }
 ],
 "metadata": {
  "kernelspec": {
   "display_name": "Python 3",
   "language": "python",
   "name": "python3"
  },
  "language_info": {
   "codemirror_mode": {
    "name": "ipython",
    "version": 3
   },
   "file_extension": ".py",
   "mimetype": "text/x-python",
   "name": "python",
   "nbconvert_exporter": "python",
   "pygments_lexer": "ipython3",
   "version": "3.8.5"
  }
 },
 "nbformat": 4,
 "nbformat_minor": 4
}
